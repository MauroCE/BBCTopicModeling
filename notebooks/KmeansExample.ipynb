{
 "cells": [
  {
   "cell_type": "markdown",
   "id": "0fda1096-6f88-4260-8268-bfbd830a1f0b",
   "metadata": {},
   "source": [
    "# Fit BERTopic with k-means clustering"
   ]
  },
  {
   "cell_type": "code",
   "execution_count": 1,
   "id": "947b7934-27d6-4196-93b2-a2454654676f",
   "metadata": {},
   "outputs": [],
   "source": [
    "import os\n",
    "import sys\n",
    "import logging\n",
    "from dotenv import load_dotenv\n",
    "\n",
    "project_dir = os.path.abspath(os.path.join(os.getcwd(), os.pardir))\n",
    "sys.path.append(project_dir)\n",
    "load_dotenv()\n",
    "\n",
    "from topicmodeling.data_loading import load_data\n",
    "from topicmodeling.topic_models import setup_bertopic\n",
    "from topicmodeling.evaluation import evaluate_bertopic\n",
    "from topicmodeling.config import BBC_PATH, CATEGORIES, CLUSTERING, EMBEDDING_MODEL_NAME, VERBOSE"
   ]
  },
  {
   "cell_type": "code",
   "execution_count": 7,
   "id": "79253978-61de-4274-a009-b075ff63ff10",
   "metadata": {},
   "outputs": [
    {
     "name": "stderr",
     "output_type": "stream",
     "text": [
      "OMP: Info #276: omp_set_nested routine deprecated, please use omp_set_max_active_levels instead.\n"
     ]
    }
   ],
   "source": [
    "# Load BBC Data\n",
    "articles, labels = load_data(path=BBC_PATH, categories=CATEGORIES, shuffle=True)\n",
    "\n",
    "# Instantiate BERTopic and pre-compute embeddings\n",
    "topic_model, article_embeddings, emb_model = setup_bertopic(\n",
    "    sentences=articles, emb_model_name=EMBEDDING_MODEL_NAME, verbose=VERBOSE, clustering=\"kmeans\"\n",
    ")\n",
    "\n",
    "# Fit using pre-computed embeddings\n",
    "topics, probs = topic_model.fit_transform(documents=articles, embeddings=article_embeddings)\n",
    "\n",
    "# Evaluate coherence and perplexity\n",
    "eval_metrics = evaluate_bertopic(model=topic_model, predictions=topics, docs=articles, probabilities=probs)"
   ]
  },
  {
   "cell_type": "code",
   "execution_count": 8,
   "id": "a9b28792-623b-4d51-bdad-4e54e3cc2ad5",
   "metadata": {},
   "outputs": [
    {
     "data": {
      "text/html": [
       "<div>\n",
       "<style scoped>\n",
       "    .dataframe tbody tr th:only-of-type {\n",
       "        vertical-align: middle;\n",
       "    }\n",
       "\n",
       "    .dataframe tbody tr th {\n",
       "        vertical-align: top;\n",
       "    }\n",
       "\n",
       "    .dataframe thead th {\n",
       "        text-align: right;\n",
       "    }\n",
       "</style>\n",
       "<table border=\"1\" class=\"dataframe\">\n",
       "  <thead>\n",
       "    <tr style=\"text-align: right;\">\n",
       "      <th></th>\n",
       "      <th>Topic</th>\n",
       "      <th>Count</th>\n",
       "      <th>Name</th>\n",
       "      <th>Representation</th>\n",
       "      <th>Representative_Docs</th>\n",
       "    </tr>\n",
       "  </thead>\n",
       "  <tbody>\n",
       "    <tr>\n",
       "      <th>0</th>\n",
       "      <td>0</td>\n",
       "      <td>792</td>\n",
       "      <td>0_broadband_mobile_tv_media</td>\n",
       "      <td>[broadband, mobile, tv, media, phones, technol...</td>\n",
       "      <td>[Mobiles 'not media players yet'\\n\\nMobiles ar...</td>\n",
       "    </tr>\n",
       "    <tr>\n",
       "      <th>1</th>\n",
       "      <td>1</td>\n",
       "      <td>480</td>\n",
       "      <td>1_financial_economy_market_investors</td>\n",
       "      <td>[financial, economy, market, investors, firms,...</td>\n",
       "      <td>[Soaring oil 'hits world economy'\\n\\nThe soari...</td>\n",
       "    </tr>\n",
       "    <tr>\n",
       "      <th>2</th>\n",
       "      <td>2</td>\n",
       "      <td>430</td>\n",
       "      <td>2_mr blair_tony blair_blair_tory</td>\n",
       "      <td>[mr blair, tony blair, blair, tory, gordon bro...</td>\n",
       "      <td>[Brown in appeal for Labour unity\\n\\nGordon Br...</td>\n",
       "    </tr>\n",
       "    <tr>\n",
       "      <th>3</th>\n",
       "      <td>3</td>\n",
       "      <td>335</td>\n",
       "      <td>3_england_rugby_ireland_wales</td>\n",
       "      <td>[england, rugby, ireland, wales, irish, refere...</td>\n",
       "      <td>[Sella wants Michalak recall\\n\\nFormer France ...</td>\n",
       "    </tr>\n",
       "    <tr>\n",
       "      <th>4</th>\n",
       "      <td>4</td>\n",
       "      <td>188</td>\n",
       "      <td>4_wimbledon_tennis_hewitt_doping</td>\n",
       "      <td>[wimbledon, tennis, hewitt, doping, davis cup,...</td>\n",
       "      <td>[Henman to face Saulnier test\\n\\nBritish numbe...</td>\n",
       "    </tr>\n",
       "  </tbody>\n",
       "</table>\n",
       "</div>"
      ],
      "text/plain": [
       "   Topic  Count                                  Name  \\\n",
       "0      0    792           0_broadband_mobile_tv_media   \n",
       "1      1    480  1_financial_economy_market_investors   \n",
       "2      2    430      2_mr blair_tony blair_blair_tory   \n",
       "3      3    335         3_england_rugby_ireland_wales   \n",
       "4      4    188      4_wimbledon_tennis_hewitt_doping   \n",
       "\n",
       "                                      Representation  \\\n",
       "0  [broadband, mobile, tv, media, phones, technol...   \n",
       "1  [financial, economy, market, investors, firms,...   \n",
       "2  [mr blair, tony blair, blair, tory, gordon bro...   \n",
       "3  [england, rugby, ireland, wales, irish, refere...   \n",
       "4  [wimbledon, tennis, hewitt, doping, davis cup,...   \n",
       "\n",
       "                                 Representative_Docs  \n",
       "0  [Mobiles 'not media players yet'\\n\\nMobiles ar...  \n",
       "1  [Soaring oil 'hits world economy'\\n\\nThe soari...  \n",
       "2  [Brown in appeal for Labour unity\\n\\nGordon Br...  \n",
       "3  [Sella wants Michalak recall\\n\\nFormer France ...  \n",
       "4  [Henman to face Saulnier test\\n\\nBritish numbe...  "
      ]
     },
     "execution_count": 8,
     "metadata": {},
     "output_type": "execute_result"
    }
   ],
   "source": [
    "topic_model.get_topic_info()"
   ]
  },
  {
   "cell_type": "markdown",
   "id": "dcf3e3e0-d61c-4175-9812-db53946695e8",
   "metadata": {},
   "source": [
    "# Evaluation against known labels"
   ]
  },
  {
   "cell_type": "markdown",
   "id": "6b30ff44-bdf5-4f3e-85bd-01e62e2d462f",
   "metadata": {},
   "source": [
    "In practice we would not have access to labels, but this can be helpful in analysing what is going on. As we can see in the image below, the model has correctly put largest similarity on `tech`, `finance` and `politics`, however it seems that `sport` has been split into two categories. One possible explanation is that `entertainment` has been split between `tech` and both `sport` topics."
   ]
  },
  {
   "cell_type": "code",
   "execution_count": 9,
   "id": "7059ca7f-40a8-4aef-9c7a-5a0ba234b15b",
   "metadata": {},
   "outputs": [],
   "source": [
    "# Concatenate descriptive words into a single str representing the topic and embed them\n",
    "topics_to_embed = [\" \".join([name for name, value in seq]) for ix, seq in topic_model.get_topics().items()]\n",
    "topics_embeddings = emb_model.encode(topics_to_embed)"
   ]
  },
  {
   "cell_type": "code",
   "execution_count": 10,
   "id": "54e3be44-c22b-4cca-b1f0-fbd8ee96ddb2",
   "metadata": {},
   "outputs": [],
   "source": [
    "# Embed the categories\n",
    "cat_embeddings = emb_model.encode(CATEGORIES)"
   ]
  },
  {
   "cell_type": "code",
   "execution_count": 11,
   "id": "945c5a06-d326-4518-8733-ea77e094c32d",
   "metadata": {},
   "outputs": [],
   "source": [
    "# Compute cosine similarities (embedding model uses unit vectors already)\n",
    "dot_prods = cat_embeddings.dot(topics_embeddings.T)  # cosine similarity"
   ]
  },
  {
   "cell_type": "code",
   "execution_count": 12,
   "id": "3eb911f2-48a1-45f3-b3ea-b739e8643219",
   "metadata": {},
   "outputs": [],
   "source": [
    "import matplotlib.pyplot as plt"
   ]
  },
  {
   "cell_type": "code",
   "execution_count": 13,
   "id": "dcede946-5af6-4dec-a229-dd0df0ed3c7c",
   "metadata": {},
   "outputs": [
    {
     "data": {
      "image/png": "[encoded data removed]",
      "text/plain": [
       "<Figure size 640x480 with 1 Axes>"
      ]
     },
     "metadata": {},
     "output_type": "display_data"
    }
   ],
   "source": [
    "fig, ax = plt.subplots()\n",
    "ax.imshow(dot_prods, cmap=\"Greys\")\n",
    "ax.set_yticks(range(len(CATEGORIES)))\n",
    "ax.set_yticklabels(CATEGORIES)\n",
    "ax.set_xticks(range(len(CATEGORIES)))\n",
    "ax.set_xticklabels([\" \".join(topic.split()[:2]) for topic in topics_to_embed], rotation=90)\n",
    "plt.show()"
   ]
  },
  {
   "cell_type": "code",
   "execution_count": null,
   "id": "9543b5f2-d9bd-4112-908c-df3976a80abe",
   "metadata": {},
   "outputs": [],
   "source": []
  }
 ],
 "metadata": {
  "kernelspec": {
   "display_name": "Python 3 (ipykernel)",
   "language": "python",
   "name": "python3"
  },
  "language_info": {
   "codemirror_mode": {
    "name": "ipython",
    "version": 3
   },
   "file_extension": ".py",
   "mimetype": "text/x-python",
   "name": "python",
   "nbconvert_exporter": "python",
   "pygments_lexer": "ipython3",
   "version": "3.12.0"
  }
 },
 "nbformat": 4,
 "nbformat_minor": 5
}
